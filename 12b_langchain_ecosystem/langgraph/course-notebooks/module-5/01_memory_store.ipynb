{
  "cells": [
    {
      "cell_type": "markdown",
      "metadata": {
        "id": "S870-bguwtbk"
      },
      "source": [
        "# Chatbot with Memory\n",
        "\n",
        "## Review\n",
        "\n",
        "[Memory](https://pmc.ncbi.nlm.nih.gov/articles/PMC10410470/) is a cognitive function that allows people to store, retrieve, and use information to understand their present and future.\n",
        "\n",
        "There are [various long-term memory types](https://langchain-ai.github.io/langgraph/concepts/memory/#memory) that can be used in AI applications.\n",
        "\n",
        "## Goals\n",
        "\n",
        "Here, we'll introduce the [LangGraph Memory Store](https://langchain-ai.github.io/langgraph/reference/store/#langgraph.store.base.BaseStore) as a way to save and retrieve long-term memories.\n",
        "\n",
        "We'll build a chatbot that uses both `short-term (within-thread)` and `long-term (across-thread)` memory.\n",
        "\n",
        "We'll focus on long-term [semantic memory](https://langchain-ai.github.io/langgraph/concepts/memory/#semantic-memory), which will be facts about the user.\n",
        "\n",
        "These long-term memories will be used to create a personalized chatbot that can remember facts about the user.\n",
        "\n",
        "It will save memory [\"in the hot path\"](https://langchain-ai.github.io/langgraph/concepts/memory/#writing-memories), as the user is chatting with it."
      ]
    },
    {
      "cell_type": "code",
      "execution_count": 1,
      "metadata": {
        "id": "B7_gaGLbwtbm"
      },
      "outputs": [],
      "source": [
        "%%capture --no-stderr\n",
        "%pip install -U langchain_openai langgraph langchain_core"
      ]
    },
    {
      "cell_type": "markdown",
      "metadata": {
        "id": "dTQIUNoPwtbn"
      },
      "source": [
        "We'll use [LangSmith](https://docs.smith.langchain.com/) for [tracing](https://docs.smith.langchain.com/concepts/tracing)."
      ]
    },
    {
      "cell_type": "code",
      "execution_count": 2,
      "metadata": {
        "id": "rr0EK1Hywtbn"
      },
      "outputs": [],
      "source": [
        "import os\n",
        "from google.colab import userdata\n",
        "\n",
        "os.environ[\"LANGCHAIN_API_KEY\"] = userdata.get('LANGCHAIN_API_KEY')\n",
        "\n",
        "os.environ[\"LANGCHAIN_TRACING_V2\"] = \"true\"\n",
        "os.environ[\"LANGCHAIN_PROJECT\"] = \"langchain-academy\""
      ]
    },
    {
      "cell_type": "markdown",
      "metadata": {
        "id": "TUrIraAlwtbn"
      },
      "source": [
        "## Introduction to the LangGraph Store\n",
        "\n",
        "The [LangGraph Memory Store](https://langchain-ai.github.io/langgraph/reference/store/#langgraph.store.base.BaseStore) provides a way to store and retrieve information *across threads* in LangGraph.\n",
        "\n",
        "This is an  [open source base class](https://blog.langchain.dev/launching-long-term-memory-support-in-langgraph/) for persistent `key-value` stores."
      ]
    },
    {
      "cell_type": "code",
      "execution_count": 3,
      "metadata": {
        "id": "TJUOYTB-wtbn"
      },
      "outputs": [],
      "source": [
        "import uuid\n",
        "from langgraph.store.memory import InMemoryStore\n",
        "in_memory_store = InMemoryStore()"
      ]
    },
    {
      "cell_type": "markdown",
      "metadata": {
        "id": "PuJl0x60wtbo"
      },
      "source": [
        "When storing objects (e.g., memories) in the [Store](https://langchain-ai.github.io/langgraph/reference/store/#langgraph.store.base.BaseStore), we provide:\n",
        "\n",
        "- The `namespace` for the object, a tuple (similar to directories)\n",
        "- the object `key` (similar to filenames)\n",
        "- the object `value` (similar to file contents)\n",
        "\n",
        "We use the [put](https://langchain-ai.github.io/langgraph/reference/store/#langgraph.store.base.BaseStore.put) method to save an object to the store by `namespace` and `key`."
      ]
    },
    {
      "cell_type": "code",
      "execution_count": 4,
      "metadata": {
        "id": "f63-s3Fiwtbo"
      },
      "outputs": [],
      "source": [
        "# Namespace for the memory to save\n",
        "user_id = \"1\"\n",
        "namespace_for_memory = (user_id, \"memories\")\n",
        "\n",
        "# Save a memory to namespace as key and value\n",
        "key = str(uuid.uuid4())"
      ]
    },
    {
      "cell_type": "code",
      "execution_count": 5,
      "metadata": {
        "colab": {
          "base_uri": "https://localhost:8080/"
        },
        "id": "btkbtu2Y0MJ8",
        "outputId": "e0683eb0-b79d-4b61-d0ac-6eeaabd08a6f"
      },
      "outputs": [
        {
          "data": {
            "text/plain": [
              "tuple"
            ]
          },
          "execution_count": 5,
          "metadata": {},
          "output_type": "execute_result"
        }
      ],
      "source": [
        "type(namespace_for_memory)"
      ]
    },
    {
      "cell_type": "code",
      "execution_count": 6,
      "metadata": {
        "colab": {
          "base_uri": "https://localhost:8080/",
          "height": 35
        },
        "id": "EjrW3lbj0eKX",
        "outputId": "9ef03751-207f-48d9-a53a-634af224c9c8"
      },
      "outputs": [
        {
          "data": {
            "application/vnd.google.colaboratory.intrinsic+json": {
              "type": "string"
            },
            "text/plain": [
              "'aabc9fbf-4c56-4067-91be-49813ff7fe1f'"
            ]
          },
          "execution_count": 6,
          "metadata": {},
          "output_type": "execute_result"
        }
      ],
      "source": [
        "key"
      ]
    },
    {
      "cell_type": "code",
      "execution_count": 7,
      "metadata": {
        "id": "Gd6vHP7M0LEG"
      },
      "outputs": [],
      "source": [
        "# The value needs to be a dictionary\n",
        "value = {\"food_preference\" : \"I like pizza\"}\n",
        "\n",
        "# Save the memory\n",
        "in_memory_store.put(namespace_for_memory, key, value)"
      ]
    },
    {
      "cell_type": "markdown",
      "metadata": {
        "id": "FpHM7uiYwtbo"
      },
      "source": [
        "We use [search](https://langchain-ai.github.io/langgraph/reference/store/#langgraph.store.base.BaseStore.search) to retrieve objects from the store by `namespace`.\n",
        "\n",
        "This returns a list."
      ]
    },
    {
      "cell_type": "code",
      "execution_count": 8,
      "metadata": {
        "colab": {
          "base_uri": "https://localhost:8080/"
        },
        "id": "jMbiP9jwwtbo",
        "outputId": "c7515bf9-9c7e-4413-b726-cc748a00cc4d"
      },
      "outputs": [
        {
          "data": {
            "text/plain": [
              "list"
            ]
          },
          "execution_count": 8,
          "metadata": {},
          "output_type": "execute_result"
        }
      ],
      "source": [
        "# Search\n",
        "memories = in_memory_store.search(namespace_for_memory)\n",
        "type(memories)"
      ]
    },
    {
      "cell_type": "code",
      "execution_count": 9,
      "metadata": {
        "colab": {
          "base_uri": "https://localhost:8080/"
        },
        "id": "L6W2qVue1BMB",
        "outputId": "6d02db39-99ee-4306-d8b3-70f1cc6160bd"
      },
      "outputs": [
        {
          "data": {
            "text/plain": [
              "[Item(namespace=['1', 'memories'], key='aabc9fbf-4c56-4067-91be-49813ff7fe1f', value={'food_preference': 'I like pizza'}, created_at='2025-01-02T16:21:29.887022+00:00', updated_at='2025-01-02T16:21:29.887028+00:00', score=None)]"
            ]
          },
          "execution_count": 9,
          "metadata": {},
          "output_type": "execute_result"
        }
      ],
      "source": [
        "memories"
      ]
    },
    {
      "cell_type": "code",
      "execution_count": 10,
      "metadata": {
        "colab": {
          "base_uri": "https://localhost:8080/"
        },
        "id": "b5XhyaNuwtbo",
        "outputId": "bb8c1452-7c76-4e99-a4ac-e30d7ff338d1"
      },
      "outputs": [
        {
          "data": {
            "text/plain": [
              "{'namespace': ['1', 'memories'],\n",
              " 'key': 'aabc9fbf-4c56-4067-91be-49813ff7fe1f',\n",
              " 'value': {'food_preference': 'I like pizza'},\n",
              " 'created_at': '2025-01-02T16:21:29.887022+00:00',\n",
              " 'updated_at': '2025-01-02T16:21:29.887028+00:00',\n",
              " 'score': None}"
            ]
          },
          "execution_count": 10,
          "metadata": {},
          "output_type": "execute_result"
        }
      ],
      "source": [
        "# Metatdata\n",
        "memories[0].dict()"
      ]
    },
    {
      "cell_type": "code",
      "execution_count": 11,
      "metadata": {
        "colab": {
          "base_uri": "https://localhost:8080/"
        },
        "id": "JlQ01AOAwtbp",
        "outputId": "d67cd95b-2c41-440c-d320-5e408a07cb6c"
      },
      "outputs": [
        {
          "name": "stdout",
          "output_type": "stream",
          "text": [
            "aabc9fbf-4c56-4067-91be-49813ff7fe1f {'food_preference': 'I like pizza'}\n"
          ]
        }
      ],
      "source": [
        "# The key, value\n",
        "print(memories[0].key, memories[0].value)"
      ]
    },
    {
      "cell_type": "markdown",
      "metadata": {
        "id": "OdJq-Xbgwtbp"
      },
      "source": [
        "We can also use [get](https://langchain-ai.github.io/langgraph/reference/store/#langgraph.store.base.BaseStore.get) to retrieve an object by `namespace` and `key`."
      ]
    },
    {
      "cell_type": "code",
      "execution_count": 12,
      "metadata": {
        "colab": {
          "base_uri": "https://localhost:8080/",
          "height": 35
        },
        "id": "1lf_u87W1lZO",
        "outputId": "9fb22142-104f-4ba3-9969-e7e49dd7056c"
      },
      "outputs": [
        {
          "data": {
            "application/vnd.google.colaboratory.intrinsic+json": {
              "type": "string"
            },
            "text/plain": [
              "'aabc9fbf-4c56-4067-91be-49813ff7fe1f'"
            ]
          },
          "execution_count": 12,
          "metadata": {},
          "output_type": "execute_result"
        }
      ],
      "source": [
        "key"
      ]
    },
    {
      "cell_type": "code",
      "execution_count": 13,
      "metadata": {
        "colab": {
          "base_uri": "https://localhost:8080/"
        },
        "id": "aUhhAiz_wtbp",
        "outputId": "56513bff-b21c-4690-d324-393d4781ec26"
      },
      "outputs": [
        {
          "data": {
            "text/plain": [
              "{'namespace': ['1', 'memories'],\n",
              " 'key': 'aabc9fbf-4c56-4067-91be-49813ff7fe1f',\n",
              " 'value': {'food_preference': 'I like pizza'},\n",
              " 'created_at': '2025-01-02T16:21:29.887022+00:00',\n",
              " 'updated_at': '2025-01-02T16:21:29.887028+00:00'}"
            ]
          },
          "execution_count": 13,
          "metadata": {},
          "output_type": "execute_result"
        }
      ],
      "source": [
        "# Get the memory by namespace and key\n",
        "memory = in_memory_store.get(namespace_for_memory, key)\n",
        "memory.dict()"
      ]
    },
    {
      "cell_type": "markdown",
      "metadata": {
        "id": "ij7LCnTFwtbp"
      },
      "source": [
        "## Chatbot with long-term memory\n",
        "\n",
        "We want a chatbot that [has two types of memory](https://docs.google.com/presentation/d/181mvjlgsnxudQI6S3ritg9sooNyu4AcLLFH1UK0kIuk/edit#slide=id.g30eb3c8cf10_0_156):\n",
        "\n",
        "1. `Short-term (within-thread) memory`: Chatbot can persist conversational history and / or allow interruptions in a chat session.\n",
        "2. `Long-term (cross-thread) memory`: Chatbot can remember information about a specific user *across all chat sessions*."
      ]
    },
    {
      "cell_type": "code",
      "execution_count": 14,
      "metadata": {
        "id": "i1E9ecTHwtbp"
      },
      "outputs": [],
      "source": [
        "os.environ[\"GOOGLE_API_KEY\"] = userdata.get('GOOGLE_API_KEY')"
      ]
    },
    {
      "cell_type": "markdown",
      "metadata": {
        "id": "y2wR0egqwtbp"
      },
      "source": [
        "For `short-term memory`, we'll use a [checkpointer](https://langchain-ai.github.io/langgraph/concepts/persistence/#checkpointer-libraries).\n",
        "\n",
        "See Module 2 and our [conceptual docs](https://langchain-ai.github.io/langgraph/concepts/persistence/) for more on checkpointers, but in summary:\n",
        "\n",
        "* They write the graph state at each step to a thread.\n",
        "* They persist the chat history in the thread.\n",
        "* They allow the graph to be interrupted and / or resumed from any step in the thread.\n",
        "\n",
        "And, for `long-term memory`, we'll use the [LangGraph Store](https://langchain-ai.github.io/langgraph/reference/store/#langgraph.store.base.BaseStore) as introduced above."
      ]
    },
    {
      "cell_type": "code",
      "execution_count": 16,
      "metadata": {
        "colab": {
          "base_uri": "https://localhost:8080/"
        },
        "id": "4-NRnwRqwtbp",
        "outputId": "44a09fd3-fd26-4341-c889-32da73f65910"
      },
      "outputs": [
        {
          "name": "stdout",
          "output_type": "stream",
          "text": [
            "\u001b[?25l   \u001b[90m━━━━━━━━━━━━━━━━━━━━━━━━━━━━━━━━━━━━━━━━\u001b[0m \u001b[32m0.0/41.3 kB\u001b[0m \u001b[31m?\u001b[0m eta \u001b[36m-:--:--\u001b[0m\r\u001b[2K   \u001b[90m━━━━━━━━━━━━━━━━━━━━━━━━━━━━━━━━━━━━━━━━\u001b[0m \u001b[32m41.3/41.3 kB\u001b[0m \u001b[31m1.4 MB/s\u001b[0m eta \u001b[36m0:00:00\u001b[0m\n",
            "\u001b[?25h"
          ]
        }
      ],
      "source": [
        "%pip install -qU langchain-google-genai"
      ]
    },
    {
      "cell_type": "code",
      "execution_count": 18,
      "metadata": {
        "id": "Kk745WDh3Gbd"
      },
      "outputs": [],
      "source": [
        "from langchain_google_genai import ChatGoogleGenerativeAI\n",
        "\n",
        "model = ChatGoogleGenerativeAI(\n",
        "    model=\"gemini-1.5-flash\",\n",
        "    temperature=0,\n",
        "    max_tokens=None,\n",
        "    timeout=None,\n",
        "    max_retries=2,\n",
        "    # other params...\n",
        ")"
      ]
    },
    {
      "cell_type": "code",
      "execution_count": 19,
      "metadata": {
        "colab": {
          "base_uri": "https://localhost:8080/"
        },
        "id": "dtzNrTgd3lEZ",
        "outputId": "b4594429-f96b-47a8-8886-7f80c238a071"
      },
      "outputs": [
        {
          "data": {
            "text/plain": [
              "AIMessage(content='Hi there! How can I help you today?\\n', additional_kwargs={}, response_metadata={'prompt_feedback': {'block_reason': 0, 'safety_ratings': []}, 'finish_reason': 'STOP', 'safety_ratings': []}, id='run-09a23a74-a041-4912-be98-42700ec92ebd-0', usage_metadata={'input_tokens': 2, 'output_tokens': 11, 'total_tokens': 13, 'input_token_details': {'cache_read': 0}})"
            ]
          },
          "execution_count": 19,
          "metadata": {},
          "output_type": "execute_result"
        }
      ],
      "source": [
        "model.invoke(\"hi\")"
      ]
    },
    {
      "cell_type": "markdown",
      "metadata": {
        "id": "sbaC6G8Dwtbq"
      },
      "source": [
        "The chat history will be saved to short-term memory using the checkpointer.\n",
        "\n",
        "The chatbot will reflect on the chat history.\n",
        "\n",
        "It will then create and save a memory to the [LangGraph Store](https://langchain-ai.github.io/langgraph/reference/store/#langgraph.store.base.BaseStore).\n",
        "\n",
        "This memory is accessible in future chat sessions to personalize the chatbot's responses."
      ]
    },
    {
      "cell_type": "code",
      "execution_count": 20,
      "metadata": {
        "id": "gYa8K7Vw3-nq"
      },
      "outputs": [],
      "source": [
        "from IPython.display import Image, display\n",
        "\n",
        "from langgraph.checkpoint.memory import MemorySaver\n",
        "from langgraph.graph import StateGraph, MessagesState, START, END\n",
        "from langgraph.store.base import BaseStore\n",
        "\n",
        "from langchain_core.messages import HumanMessage, SystemMessage\n",
        "from langchain_core.runnables.config import RunnableConfig\n"
      ]
    },
    {
      "cell_type": "code",
      "execution_count": 21,
      "metadata": {
        "id": "kGnOqp9N4CQm"
      },
      "outputs": [],
      "source": [
        "# Chatbot instruction\n",
        "MODEL_SYSTEM_MESSAGE = \"\"\"You are a helpful assistant with memory that provides information about the user.\n",
        "If you have memory for this user, use it to personalize your responses.\n",
        "Here is the memory (it may be empty): {memory}\"\"\"\n",
        "\n",
        "# Create new memory from the chat history and any existing memory\n",
        "CREATE_MEMORY_INSTRUCTION = \"\"\"\"You are collecting information about\n",
        "the user to personalize your responses.\n",
        "\n",
        "CURRENT USER INFORMATION:\n",
        "{memory}\n",
        "\n",
        "INSTRUCTIONS:\n",
        "1. Review the chat history below carefully\n",
        "2. Identify new information about the user, such as:\n",
        "   - Personal details (name, location)\n",
        "   - Preferences (likes, dislikes)\n",
        "   - Interests and hobbies\n",
        "   - Past experiences\n",
        "   - Goals or future plans\n",
        "3. Merge any new information with existing memory\n",
        "4. Format the memory as a clear, bulleted list\n",
        "5. If new information conflicts with existing memory, keep the most recent version\n",
        "\n",
        "Remember: Only include factual information directly stated by the user. Do not make assumptions or inferences.\n",
        "\n",
        "Based on the chat history below, please update the user information:\"\"\"\n"
      ]
    },
    {
      "cell_type": "code",
      "execution_count": 22,
      "metadata": {
        "colab": {
          "base_uri": "https://localhost:8080/",
          "height": 350
        },
        "id": "epNNguj5wtbq",
        "outputId": "e507aaf4-08d6-415b-974e-968e26dbaae1"
      },
      "outputs": [
        {
          "data": {
            "image/png": "[encoded data removed]",
            "text/plain": [
              "<IPython.core.display.Image object>"
            ]
          },
          "metadata": {},
          "output_type": "display_data"
        }
      ],
      "source": [
        "def call_model(state: MessagesState, config: RunnableConfig, store: BaseStore):\n",
        "\n",
        "    \"\"\"Load memory from the store and use it to personalize the chatbot's response.\"\"\"\n",
        "\n",
        "    # Get the user ID from the config\n",
        "    user_id = config[\"configurable\"][\"user_id\"]\n",
        "\n",
        "    # Retrieve memory from the store\n",
        "    namespace = (\"memory\", user_id)\n",
        "    key = \"user_memory\"\n",
        "    existing_memory = store.get(namespace, key)\n",
        "\n",
        "    # Extract the actual memory content if it exists and add a prefix\n",
        "    if existing_memory:\n",
        "        # Value is a dictionary with a memory key\n",
        "        existing_memory_content = existing_memory.value.get('memory')\n",
        "    else:\n",
        "        existing_memory_content = \"No existing memory found.\"\n",
        "\n",
        "    # Format the memory in the system prompt\n",
        "    system_msg = MODEL_SYSTEM_MESSAGE.format(memory=existing_memory_content)\n",
        "\n",
        "    # Respond using memory as well as the chat history\n",
        "    response = model.invoke([SystemMessage(content=system_msg)]+state[\"messages\"])\n",
        "\n",
        "    return {\"messages\": response}\n",
        "\n",
        "def write_memory(state: MessagesState, config: RunnableConfig, store: BaseStore):\n",
        "\n",
        "    \"\"\"Reflect on the chat history and save a memory to the store.\"\"\"\n",
        "\n",
        "    # Get the user ID from the config\n",
        "    user_id = config[\"configurable\"][\"user_id\"]\n",
        "\n",
        "    # Retrieve existing memory from the store\n",
        "    namespace = (\"memory\", user_id)\n",
        "    existing_memory = store.get(namespace, \"user_memory\")\n",
        "\n",
        "    # Extract the memory\n",
        "    if existing_memory:\n",
        "        existing_memory_content = existing_memory.value.get('memory')\n",
        "    else:\n",
        "        existing_memory_content = \"No existing memory found.\"\n",
        "\n",
        "    # Format the memory in the system prompt\n",
        "    system_msg = CREATE_MEMORY_INSTRUCTION.format(memory=existing_memory_content)\n",
        "    new_memory = model.invoke([SystemMessage(content=system_msg)]+state['messages'])\n",
        "\n",
        "    # Overwrite the existing memory in the store\n",
        "    key = \"user_memory\"\n",
        "\n",
        "    # Write value as a dictionary with a memory key\n",
        "    store.put(namespace, key, {\"memory\": new_memory.content})\n",
        "\n",
        "# Define the graph\n",
        "builder = StateGraph(MessagesState)\n",
        "builder.add_node(\"call_model\", call_model)\n",
        "builder.add_node(\"write_memory\", write_memory)\n",
        "builder.add_edge(START, \"call_model\")\n",
        "builder.add_edge(\"call_model\", \"write_memory\")\n",
        "builder.add_edge(\"write_memory\", END)\n",
        "\n",
        "# Store for long-term (across-thread) memory\n",
        "across_thread_memory = InMemoryStore()\n",
        "\n",
        "# Checkpointer for short-term (within-thread) memory\n",
        "within_thread_memory = MemorySaver()\n",
        "\n",
        "# Compile the graph with the checkpointer fir and store\n",
        "graph = builder.compile(checkpointer=within_thread_memory, store=across_thread_memory)\n",
        "\n",
        "# View\n",
        "display(Image(graph.get_graph(xray=1).draw_mermaid_png()))"
      ]
    },
    {
      "cell_type": "markdown",
      "metadata": {
        "id": "1U0syvKTwtbq"
      },
      "source": [
        "When we interact with the chatbot, we supply two things:\n",
        "\n",
        "1. `Short-term (within-thread) memory`: A `thread ID` for persisting the chat history.\n",
        "2. `Long-term (cross-thread) memory`: A `user ID` to namespace long-term memories to the user.\n",
        "\n",
        "Let's see how these work together in practice."
      ]
    },
    {
      "cell_type": "code",
      "execution_count": 23,
      "metadata": {
        "colab": {
          "base_uri": "https://localhost:8080/"
        },
        "id": "l4V1RXBzwtbq",
        "outputId": "5faf7135-271d-46dd-fadc-1c5fb5293148"
      },
      "outputs": [
        {
          "name": "stdout",
          "output_type": "stream",
          "text": [
            "================================\u001b[1m Human Message \u001b[0m=================================\n",
            "\n",
            "Hi, my name is Lance\n",
            "==================================\u001b[1m Ai Message \u001b[0m==================================\n",
            "\n",
            "Hello Lance, it's nice to meet you!  I'll remember that for our future conversations.\n"
          ]
        }
      ],
      "source": [
        "# We supply a thread ID for short-term (within-thread) memory\n",
        "# We supply a user ID for long-term (across-thread) memory\n",
        "config = {\"configurable\": {\"thread_id\": \"1\", \"user_id\": \"1\"}}\n",
        "\n",
        "# User input\n",
        "input_messages = [HumanMessage(content=\"Hi, my name is Lance\")]\n",
        "\n",
        "# Run the graph\n",
        "for chunk in graph.stream({\"messages\": input_messages}, config, stream_mode=\"values\"):\n",
        "    chunk[\"messages\"][-1].pretty_print()"
      ]
    },
    {
      "cell_type": "code",
      "execution_count": 24,
      "metadata": {
        "colab": {
          "base_uri": "https://localhost:8080/"
        },
        "id": "GLLun70dwtbr",
        "outputId": "1659ad88-d035-4a9a-8e0d-675f04979e36"
      },
      "outputs": [
        {
          "name": "stdout",
          "output_type": "stream",
          "text": [
            "================================\u001b[1m Human Message \u001b[0m=================================\n",
            "\n",
            "I like to bike around San Francisco\n",
            "==================================\u001b[1m Ai Message \u001b[0m==================================\n",
            "\n",
            "That's great, Lance! San Francisco is a beautiful city to explore by bike, although I imagine it can be quite hilly.  Are there any particular routes or neighborhoods you enjoy biking in?\n"
          ]
        }
      ],
      "source": [
        "# User input\n",
        "input_messages = [HumanMessage(content=\"I like to bike around San Francisco\")]\n",
        "\n",
        "# Run the graph\n",
        "for chunk in graph.stream({\"messages\": input_messages}, config, stream_mode=\"values\"):\n",
        "    chunk[\"messages\"][-1].pretty_print()"
      ]
    },
    {
      "cell_type": "markdown",
      "metadata": {
        "id": "SnlD7VvFwtbr"
      },
      "source": [
        "We're using the `MemorySaver` checkpointer for within-thread memory.\n",
        "\n",
        "This saves the chat history to the thread.\n",
        "\n",
        "We can look at the chat history saved to the thread."
      ]
    },
    {
      "cell_type": "code",
      "execution_count": 25,
      "metadata": {
        "colab": {
          "base_uri": "https://localhost:8080/"
        },
        "id": "kD95QOJlwtbr",
        "outputId": "5bc5be97-b527-4006-e9af-0f4f4c7bcffd"
      },
      "outputs": [
        {
          "name": "stdout",
          "output_type": "stream",
          "text": [
            "================================\u001b[1m Human Message \u001b[0m=================================\n",
            "\n",
            "Hi, my name is Lance\n",
            "==================================\u001b[1m Ai Message \u001b[0m==================================\n",
            "\n",
            "Hello Lance, it's nice to meet you!  I'll remember that for our future conversations.\n",
            "================================\u001b[1m Human Message \u001b[0m=================================\n",
            "\n",
            "I like to bike around San Francisco\n",
            "==================================\u001b[1m Ai Message \u001b[0m==================================\n",
            "\n",
            "That's great, Lance! San Francisco is a beautiful city to explore by bike, although I imagine it can be quite hilly.  Are there any particular routes or neighborhoods you enjoy biking in?\n"
          ]
        }
      ],
      "source": [
        "thread = {\"configurable\": {\"thread_id\": \"1\"}}\n",
        "state = graph.get_state(thread).values\n",
        "for m in state[\"messages\"]:\n",
        "    m.pretty_print()"
      ]
    },
    {
      "cell_type": "markdown",
      "metadata": {
        "id": "bPA4g44Gwtbr"
      },
      "source": [
        "Recall that we compiled the graph with our the store:\n",
        "\n",
        "```python\n",
        "across_thread_memory = InMemoryStore()\n",
        "```\n",
        "\n",
        "And, we added a node to the graph (`write_memory`) that reflects on the chat history and saves a memory to the store.\n",
        "\n",
        "We can to see if the memory was saved to the store."
      ]
    },
    {
      "cell_type": "code",
      "execution_count": 26,
      "metadata": {
        "colab": {
          "base_uri": "https://localhost:8080/"
        },
        "id": "_KgcD4fXwtbr",
        "outputId": "47496490-e686-46ba-afee-4bfd82bbce40"
      },
      "outputs": [
        {
          "data": {
            "text/plain": [
              "{'namespace': ['memory', '1'],\n",
              " 'key': 'user_memory',\n",
              " 'value': {'memory': \"Here's an updated summary of what I know about you:\\n\\n* **Name:** Lance\\n* **Location:** San Francisco\\n* **Interests/Hobbies:** Biking\\n\\n\"},\n",
              " 'created_at': '2025-01-02T16:55:12.626372+00:00',\n",
              " 'updated_at': '2025-01-02T16:55:12.626375+00:00'}"
            ]
          },
          "execution_count": 26,
          "metadata": {},
          "output_type": "execute_result"
        }
      ],
      "source": [
        "# Namespace for the memory to save\n",
        "user_id = \"1\"\n",
        "namespace = (\"memory\", user_id)\n",
        "existing_memory = across_thread_memory.get(namespace, \"user_memory\")\n",
        "existing_memory.dict()"
      ]
    },
    {
      "cell_type": "markdown",
      "metadata": {
        "id": "8VoCq6tvwtbr"
      },
      "source": [
        "Now, let's kick off a *new thread* with the *same user ID*.\n",
        "\n",
        "We should see that the chatbot remembered the user's profile and used it to personalize the response."
      ]
    },
    {
      "cell_type": "code",
      "execution_count": 28,
      "metadata": {
        "colab": {
          "base_uri": "https://localhost:8080/"
        },
        "id": "s2kf99MHwtbs",
        "outputId": "6bd24f10-f85e-4e82-81f7-6188de69e33e"
      },
      "outputs": [
        {
          "name": "stdout",
          "output_type": "stream",
          "text": [
            "================================\u001b[1m Human Message \u001b[0m=================================\n",
            "\n",
            "Hi! What do you know about me?\n",
            "==================================\u001b[1m Ai Message \u001b[0m==================================\n",
            "\n",
            "Hi Lance!  I know you're from San Francisco and that you enjoy biking.  Is there anything else I should know about you?\n"
          ]
        }
      ],
      "source": [
        "# We supply a user ID for across-thread memory as well as a new thread ID\n",
        "config = {\"configurable\": {\"thread_id\": \"245433444\", \"user_id\": \"1\"}}\n",
        "\n",
        "# User input\n",
        "input_messages = [HumanMessage(content=\"Hi! What do you know about me?\")]\n",
        "\n",
        "# Run the graph\n",
        "for chunk in graph.stream({\"messages\": input_messages}, config, stream_mode=\"values\"):\n",
        "    chunk[\"messages\"][-1].pretty_print()"
      ]
    },
    {
      "cell_type": "code",
      "execution_count": null,
      "metadata": {
        "id": "BWrVi5sewtbs",
        "outputId": "28306b2b-37a1-43b3-8a51-c41f1fa9820a"
      },
      "outputs": [
        {
          "name": "stdout",
          "output_type": "stream",
          "text": [
            "================================\u001b[1m Human Message \u001b[0m=================================\n",
            "\n",
            "Great, are there any bakeries nearby that I can check out? I like a croissant after biking.\n",
            "==================================\u001b[1m Ai Message \u001b[0m==================================\n",
            "\n",
            "Absolutely, Lance! Here are a few bakeries in San Francisco where you can enjoy a delicious croissant after your ride:\n",
            "\n",
            "1. **Tartine Bakery**: Located in the Mission District, Tartine is famous for its pastries, and their croissants are a must-try.\n",
            "\n",
            "2. **Arsicault Bakery**: This bakery in the Richmond District has been praised for its buttery, flaky croissants. It's a bit of a detour, but worth it!\n",
            "\n",
            "3. **b. Patisserie**: Situated in Lower Pacific Heights, b. Patisserie offers a variety of pastries, and their croissants are particularly popular.\n",
            "\n",
            "4. **Le Marais Bakery**: With locations in the Marina and Castro, Le Marais offers a charming French bakery experience with excellent croissants.\n",
            "\n",
            "5. **Neighbor Bakehouse**: Located in the Dogpatch, this bakery is known for its creative pastries, including some fantastic croissants.\n",
            "\n",
            "These spots should provide a delightful treat after your biking adventures. Enjoy your ride and your croissant!\n"
          ]
        }
      ],
      "source": [
        "# User input\n",
        "input_messages = [HumanMessage(content=\"Great, are there any bakeries nearby that I can check out? I like a croissant after biking.\")]\n",
        "\n",
        "# Run the graph\n",
        "for chunk in graph.stream({\"messages\": input_messages}, config, stream_mode=\"values\"):\n",
        "    chunk[\"messages\"][-1].pretty_print()"
      ]
    },
    {
      "cell_type": "markdown",
      "metadata": {
        "id": "pW4AV3Lj-rnJ"
      },
      "source": [
        "## Assignment\n",
        "\n",
        "1. Add Long Term Memoery to 01 using interrupt and long term memory."
      ]
    },
    {
      "cell_type": "markdown",
      "metadata": {
        "id": "BppltRYHwtbs"
      },
      "source": [
        "## Viewing traces in LangSmith\n",
        "\n",
        "We can see that the memories are retrieved from the store and supplied as part of the system prompt, as expected:\n",
        "\n",
        "https://smith.langchain.com/public/10268d64-82ff-434e-ac02-4afa5cc15432/r"
      ]
    }
  ],
  "metadata": {
    "colab": {
      "provenance": []
    },
    "kernelspec": {
      "display_name": "Python 3 (ipykernel)",
      "language": "python",
      "name": "python3"
    },
    "language_info": {
      "codemirror_mode": {
        "name": "ipython",
        "version": 3
      },
      "file_extension": ".py",
      "mimetype": "text/x-python",
      "name": "python",
      "nbconvert_exporter": "python",
      "pygments_lexer": "ipython3",
      "version": "3.11.8"
    }
  },
  "nbformat": 4,
  "nbformat_minor": 0
}
